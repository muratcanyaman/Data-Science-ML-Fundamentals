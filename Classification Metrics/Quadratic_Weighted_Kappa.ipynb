{
 "cells": [
  {
   "cell_type": "markdown",
   "id": "a308c6e3",
   "metadata": {},
   "source": [
    "\n",
    "# Quadratic Weighted Kappa (QWK)\n",
    "\n",
    "**Quadratic Weighted Kappa**, sınıflandırma problemlerinde değerlendiricilerin (örneğin modellerin veya insanlar arası) ne kadar iyi anlaştığını ölçmek için kullanılan bir istatistiksel metriktir. Genellikle **sıralı sınıflandırma problemleri** için uygundur. Yani sınıflar arasında doğal bir sıralama varsa (örneğin 0-1-2-3 gibi), QWK metrik olarak tercih edilir.\n",
    "\n",
    "## Nerelerde Kullanılır?\n",
    "- Sıralı sınıflandırma problemlerinde model başarımını ölçmek için (örneğin, tıbbi derecelendirme, sınav puanı tahmini)\n",
    "- Kaggle yarışmalarında (örneğin: Facebook V: Predicting Exam Scores)\n",
    "\n",
    "## Formülü\n",
    "\n",
    "Quadratic Weighted Kappa formülü şu şekildedir:\n",
    "\n",
    "$$\n",
    "\\kappa = 1 - \\frac{\\sum_{i,j} W_{i,j} O_{i,j}}{\\sum_{i,j} W_{i,j} E_{i,j}}\n",
    "$$\n",
    "\n",
    "Burada:\n",
    "\n",
    "- $O$ gözlemlenen anlaşma matrisidir (confusion matrix)\n",
    "- $E$ beklenen anlaşma matrisidir (random expectation)\n",
    "- $W$ ağırlık matrisidir\n",
    "\n",
    "Ağırlık matrisi $W_{i,j}$ genellikle şu şekilde tanımlanır:\n",
    "\n",
    "$$\n",
    "W_{i,j} = \\frac{(i - j)^2}{(N - 1)^2}\n",
    "$$\n",
    "\n",
    "Burada $i$ ve $j$ tahmin edilen ve gerçek sınıfları temsil eder, $N$ ise toplam sınıf sayısıdır.\n"
   ]
  },
  {
   "cell_type": "markdown",
   "id": "a98179e2",
   "metadata": {},
   "source": [
    "### 🔢 QWK (Quadratic Weighted Kappa) Skor Aralığı\n",
    "\n",
    "Quadratic Weighted Kappa (QWK) skoru aşağıdaki aralıkta değişir:\n",
    "\n",
    "$-1 \\leq \\mathrm{QWK} \\leq 1$\n",
    "\n",
    "#### 📘 Anlamı:\n",
    "\n",
    "| QWK Skoru        | Açıklama |\n",
    "|------------------|----------|\n",
    "| **1.0**          | Mükemmel uyum (tahminler ile gerçek etiketler tamamen aynı) |\n",
    "| **0.0**          | Tahminler rastgele yapılmış gibi (anlamlı bir uyum yok) |\n",
    "| **< 0 (negatif)**| Tahminler, gerçek etiketlerle sistematik olarak çelişiyor (beklenenden daha kötü tahminler) |"
   ]
  },
  {
   "cell_type": "code",
   "execution_count": 1,
   "id": "856f8da8",
   "metadata": {},
   "outputs": [
    {
     "name": "stdout",
     "output_type": "stream",
     "text": [
      "Quadratic Weighted Kappa Skoru: 0.9538461538461538\n"
     ]
    }
   ],
   "source": [
    "\n",
    "import numpy as np\n",
    "from sklearn.metrics import cohen_kappa_score\n",
    "\n",
    "# Gerçek (true) sınıflar - sıralı sınıflar\n",
    "y_true = [0, 1, 2, 2, 3, 4, 4, 4, 3, 2, 1, 0]\n",
    "\n",
    "# Modelin tahmin ettiği sınıflar\n",
    "y_pred = [0, 2, 2, 2, 3, 4, 4, 3, 3, 2, 1, 0]\n",
    "\n",
    "# Quadratic Weighted Kappa skoru\n",
    "qwk_score = cohen_kappa_score(y_true, y_pred, weights='quadratic')\n",
    "\n",
    "print(\"Quadratic Weighted Kappa Skoru:\", qwk_score)\n"
   ]
  },
  {
   "cell_type": "markdown",
   "id": "78c4cbbd",
   "metadata": {},
   "source": [
    "Yukarıdaki skora göre değerlendirme yapacak olursak:\n",
    "\n",
    "Modelimizin tahminleri ile gerçek değerler arasında yüksek tutarlılık vardır. QWK skorunun 0.95 olması, modelin sıralı sınıfları ayırt etmekte çok başarılı olduğunu gösterir. Bu, pratikte güvenilir bir modelimiz olduğunu gösterir."
   ]
  },
  {
   "cell_type": "markdown",
   "id": "42d2bbd6",
   "metadata": {},
   "source": [
    "\n",
    "Yukarıdaki örnekte:\n",
    "\n",
    "- `y_true` gerçek (doğru) sınıf etiketlerini gösterir.\n",
    "- `y_pred` modelin tahmin ettiği sınıf etiketlerini temsil eder.\n",
    "- `cohen_kappa_score(..., weights='quadratic')` fonksiyonu, sklearn kütüphanesini kullanarak QWK skorunu hesaplar.\n",
    "\n",
    "**Not:** Eğer `weights='linear'` şeklinde ayarlanırsa bu Linear Weighted Kappa olur.\n"
   ]
  }
 ],
 "metadata": {
  "kernelspec": {
   "display_name": "Python 3",
   "language": "python",
   "name": "python3"
  },
  "language_info": {
   "codemirror_mode": {
    "name": "ipython",
    "version": 3
   },
   "file_extension": ".py",
   "mimetype": "text/x-python",
   "name": "python",
   "nbconvert_exporter": "python",
   "pygments_lexer": "ipython3",
   "version": "3.12.6"
  }
 },
 "nbformat": 4,
 "nbformat_minor": 5
}
