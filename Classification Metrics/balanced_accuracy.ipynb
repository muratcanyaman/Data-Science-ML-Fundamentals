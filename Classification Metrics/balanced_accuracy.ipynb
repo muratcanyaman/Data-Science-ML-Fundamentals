{
 "cells": [
  {
   "cell_type": "markdown",
   "id": "f7f0db66",
   "metadata": {},
   "source": [
    "# Balanced Accuracy Demo\n",
    "Bu defter GitHub üzerinde paylaşılmak üzere hazırlanmıştır. Dengesiz veri setlerinde **balanced accuracy** metriğinin neden daha doğru bir değerlendirme sunduğunu gösterir.\n",
    "\n",
    "## Nasıl Çalıştırılır?\n",
    "```bash\n",
    "git clone <repo-url>\n",
    "cd <repo>\n",
    "pip install -r requirements.txt  # veya: pip install scikit-learn matplotlib\n",
    "jupyter notebook balanced_accuracy_demo_enhanced.ipynb\n",
    "```\n",
    "Python ≥3.8 önerilir.\n"
   ]
  },
  {
   "cell_type": "markdown",
   "id": "d50a45c9",
   "metadata": {},
   "source": [
    "# Dengelenmiş Doğruluk (Balanced Accuracy)\n",
    "Bu not defterinde **balanced accuracy** kavramını ayrıntılı olarak inceleyecek ve Python ile küçük bir örnek uygulayacağız."
   ]
  },
  {
   "cell_type": "markdown",
   "id": "df8779bb",
   "metadata": {},
   "source": [
    "## Tanım \n",
    "Balanced accuracy (dengelenmiş doğruluk), sınıf dağılımı dengesiz (imbalanced) olan sınıflandırma problemlerinde model performansını daha adil bir şekilde ölçmek için kullanılan bir metriktir. Her sınıf için **recall** (duyarlılık) değerini hesaplar ve bu değerlerin aritmetik ortalamasını alır.\n",
    "\n",
    "$$ \\text{Balanced Accuracy} = \\frac{1}{C}\\sum_{i=1}^{C}\\frac{TP_i}{TP_i + FN_i} $$\n",
    "\n",
    "Burada $C$ sınıf sayısıdır, $TP_i$ i'inci sınıf için gerçek pozitiflerin sayısı, $FN_i$ ise gerçek kaçırılan (false negative) örneklerin sayısıdır."
   ]
  },
  {
   "cell_type": "markdown",
   "id": "080c583f",
   "metadata": {},
   "source": [
    "## Neden ve Ne Zaman Kullanılır?\n",
    "- **Sınıf dengesizliği** olduğunda (`weights=[0.95, 0.05]` gibi), klasik accuracy metriği çoğunluk sınıfını tahmin ederek yüksek değer verebilir.\n",
    "- Balanced accuracy, her sınıfın başarı oranını eşit derecede önemser; böylece azınlık sınıfın tahmin doğruluğunu gizlemez.\n",
    "- Özellikle tıp, sahtekârlık tespiti ve güvenlik gibi azınlık sınıfın kritik olduğu senaryolarda tercih edilir."
   ]
  },
  {
   "cell_type": "markdown",
   "id": "2569ffec",
   "metadata": {},
   "source": [
    "## Örnek Çalışma \n",
    "Aşağıdaki hücrelerde yapay olarak dengesiz bir veri seti oluşturacağız (%90 negatif, %10 pozitif). Bir Lojistik Regresyon modeli eğitip hem klasik accuracy hem de balanced accuracy hesaplayacağız."
   ]
  },
  {
   "cell_type": "code",
   "execution_count": null,
   "id": "d2d15ddf",
   "metadata": {},
   "outputs": [],
   "source": [
    "# Gerekli kütüphaneleri içe aktar\n",
    "import numpy as np\n",
    "from sklearn.datasets import make_classification\n",
    "from sklearn.model_selection import train_test_split\n",
    "from sklearn.linear_model import LogisticRegression\n",
    "from sklearn.metrics import accuracy_score, balanced_accuracy_score, confusion_matrix, ConfusionMatrixDisplay\n",
    "import matplotlib.pyplot as plt\n",
    "\n",
    "# 1) Yapay veri seti oluşturalım\n",
    "# Bu veri seti iki sınıflı olacak ve sınıflar arasında dengesizlik olacak (örn: %90 sınıf 0, %10 sınıf 1)\n",
    "X, y = make_classification(n_samples=5000,       # toplam 5000 örnek\n",
    "                           n_features=20,         # 20 özellik (bağımsız değişken)\n",
    "                           n_informative=3,       # 3 tanesi gerçekten bilgi içeriyor\n",
    "                           n_redundant=0,         # gereksiz (tekrarlı) özellik yok\n",
    "                           n_clusters_per_class=1,\n",
    "                           weights=[0.9, 0.1],    # %90 sınıf 0, %10 sınıf 1\n",
    "                           random_state=42)       # tekrarlanabilirlik için sabit tohum\n",
    "\n",
    "# 2) Eğitim ve test verilerini ayıralım\n",
    "X_train, X_test, y_train, y_test = train_test_split(\n",
    "    X, y, test_size=0.3, stratify=y, random_state=42\n",
    ")  # %70 eğitim, %30 test\n",
    "\n",
    "# 3) Lojistik regresyon modeli oluşturalım ve eğitelim\n",
    "clf = LogisticRegression(max_iter=1000)  # maksimum iterasyon sayısını artırıyoruz\n",
    "clf.fit(X_train, y_train)  # modeli eğitiyoruz\n",
    "\n",
    "# 4) Test verisi ile tahmin yapalım\n",
    "y_pred = clf.predict(X_test)  # tahmin edilen etiketler\n",
    "\n",
    "# 5) Performans metriklerini hesaplayalım\n",
    "acc = accuracy_score(y_test, y_pred)  # klasik doğruluk (accuracy)\n",
    "bal_acc = balanced_accuracy_score(y_test, y_pred)  # dengelenmiş doğruluk (balanced accuracy)\n",
    "\n",
    "# Sonuçları yazdıralım\n",
    "print(f\"Klasik Accuracy: {acc:.4f}\")\n",
    "print(f\"Balanced Accuracy: {bal_acc:.4f}\")\n",
    "\n",
    "# 6) Confusion matrix'i görselleştirelim\n",
    "cm = confusion_matrix(y_test, y_pred)  # karışıklık matrisi\n",
    "fig, ax = plt.subplots()\n",
    "ConfusionMatrixDisplay(confusion_matrix=cm).plot(ax=ax)  # matrisi çizdir\n",
    "plt.title('Confusion Matrix')\n",
    "plt.show()"
   ]
  },
  {
   "cell_type": "markdown",
   "id": "1bf4a3b9",
   "metadata": {},
   "source": [
    "## 🚀 Sonraki Aşamalar (Ne Yapılabilir?)\n",
    "- **class_weight='balanced'** veya `compute_class_weight` ile modeli tekrar eğitip azınlık sınıfa ağırlık verilebilir.\n",
    "- **SMOTE** ya da **RandomOverSampler** gibi tekniklerle azınlık sınıfı örnekleri artırılabilir.\n",
    "- Farklı modeller (Random Forest, Gradient Boosting, XGBoost, LightGBM) denenerek performans karşılaştırması yapılabilir.\n",
    "- **ROC-AUC**, **PR-AUC**, **F1-score** gibi ilave metrikler eklenerek dengesiz veri setlerinde daha kapsamlı değerlendirme yapılabilir.\n",
    "- Veri setini gerçek bir probleme (örn: sahtekârlık tespiti) entegre ederek iş bağlamı oluşturulabilir.\n",
    "\n",
    "Aşağıdaki hücre `class_weight='balanced'` parametresinin etkisini hızlıca gösterir."
   ]
  },
  {
   "cell_type": "code",
   "execution_count": null,
   "id": "85099148",
   "metadata": {},
   "outputs": [],
   "source": [
    "# class_weight='balanced' ile yeniden eğitim\n",
    "# Bu parametre, modelin azınlık sınıfa daha fazla önem vermesini sağlar.\n",
    "# Böylece sınıf dengesizliğinin etkisi azaltılır.\n",
    "\n",
    "clf_bal = LogisticRegression(max_iter=1000, class_weight='balanced')  # sınıflara ağırlık vererek model kur\n",
    "clf_bal.fit(X_train, y_train)  # modeli eğit\n",
    "\n",
    "y_pred_bal = clf_bal.predict(X_test)  # test verileri üzerinde tahmin yap\n",
    "\n",
    "acc_bal = accuracy_score(y_test, y_pred_bal)  # klasik doğruluk (accuracy)\n",
    "bal_acc_bal = balanced_accuracy_score(y_test, y_pred_bal)  # dengelenmiş doğruluk\n",
    "\n",
    "print(\"\\n--- class_weight='balanced' Sonuçları ---\")\n",
    "print(f\"Accuracy: {acc_bal:.4f}\")  # doğruluk oranını yazdır\n",
    "print(f\"Balanced Accuracy: {bal_acc_bal:.4f}\")  # balanced accuracy oranını yazdır\n",
    "\n",
    "# Confusion matrix ile sınıf bazında başarıyı görselleştir\n",
    "cm_bal = confusion_matrix(y_test, y_pred_bal)\n",
    "fig, ax = plt.subplots()\n",
    "ConfusionMatrixDisplay(confusion_matrix=cm_bal).plot(ax=ax)\n",
    "plt.title(\"Confusion Matrix (class_weight='balanced')\")\n",
    "plt.show()"
   ]
  },
  {
   "cell_type": "markdown",
   "id": "8636beb4",
   "metadata": {},
   "source": [
    "---\n",
    "Bu not defteri [MIT Lisansı](LICENSE) ile sunulmuştur. Katkılarınızı pull request veya issue yoluyla iletebilirsiniz.\n",
    "\n",
    "_Son güncelleme: 2025-07-15 07:45_"
   ]
  }
 ],
 "metadata": {
  "authors": [
   {
    "date": "2025-07-15T07:29:49.077519",
    "email": "",
    "name": "ChatGPT"
   }
  ],
  "kernelspec": {
   "display_name": "Python 3",
   "language": "python",
   "name": "python3"
  },
  "language_info": {
   "codemirror_mode": {
    "name": "ipython",
    "version": 3
   },
   "file_extension": ".py",
   "mimetype": "text/x-python",
   "name": "python",
   "nbconvert_exporter": "python",
   "pygments_lexer": "ipython3",
   "version": "3.12.6"
  }
 },
 "nbformat": 4,
 "nbformat_minor": 5
}
