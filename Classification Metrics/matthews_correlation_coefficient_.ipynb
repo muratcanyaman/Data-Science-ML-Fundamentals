{
 "cells": [
  {
   "cell_type": "markdown",
   "id": "d35a3c2c",
   "metadata": {},
   "source": [
    "# 🤖 Matthews Correlation Coefficient (MCC) \n",
    "\n",
    "Bu Jupyter defteri, **Matthews Correlation Coefficient (MCC)** kavramını açıklamak ve nasıl hesaplandığını öğretmek için hazırlanmıştır.  \n",
    "\n",
    "\n",
    "---\n",
    "\n",
    "## 📌 MCC Nedir?\n",
    "\n",
    "Matthews Correlation Coefficient (MCC), ikili sınıflandırma problemlerinde performansı ölçmek için kullanılan bir metriktir.  \n",
    "Karmaşıklık matrisinin (confusion matrix) **tüm bileşenlerini (TP, TN, FP, FN)** dikkate alır.\n",
    "\n",
    "MCC, aşağıdaki gibi hesaplanır:\n",
    "\n",
    "MCC = (TPxTN – FPxFN) / √ (TP+FP)(TP+FN)(TN+FP)(TN+FN)\n",
    "\n",
    "TP : Gerçek pozitiflerin sayısı\n",
    "TN : Gerçek negatiflerin sayısı\n",
    "FP : Yanlış pozitif sayısı\n",
    "FN : Yanlış negatiflerin sayısı\n",
    "\n",
    "- +1 → Mükemmel tahmin\n",
    "-  0 → Rastgele tahmin\n",
    "- -1 → Tamamen ters tahmin (çok kötü)\n",
    "\n",
    "---\n",
    "\n",
    "## 🎯 Neden MCC?\n",
    "\n",
    "- Dengesiz veri setlerinde accuracy yanıltıcı olabilir.\n",
    "- F1-score sadece pozitif sınıfa odaklanır.\n",
    "- MCC ise **tüm sınıflar ve hata türlerini** hesaba katar.\n"
   ]
  },
  {
   "cell_type": "code",
   "execution_count": 1,
   "id": "c26dfc9d",
   "metadata": {},
   "outputs": [],
   "source": [
    "# Gerekli kütüphaneleri içe aktaralım\n",
    "from sklearn.datasets import make_classification  # Veri seti oluşturmak için\n",
    "from sklearn.linear_model import LogisticRegression  # Lojistik regresyon modeli\n",
    "from sklearn.model_selection import train_test_split  # Eğitim-test bölme\n",
    "from sklearn.metrics import confusion_matrix, ConfusionMatrixDisplay  # Konfüzyon matrisi\n",
    "from sklearn.metrics import matthews_corrcoef, accuracy_score  # MCC ve accuracy metrikleri\n",
    "import matplotlib.pyplot as plt  # Görselleştirme için\n",
    "import numpy as np  # Sayısal işlemler için\n",
    "\n",
    "# Dengesiz bir veri seti oluşturalım (%90 sınıf 0, %10 sınıf 1)\n",
    "X, y = make_classification(n_samples=1500,  # toplam örnek sayısı\n",
    "                           n_features=6,  # 6 özellik (feature)\n",
    "                           n_informative=4,  # bilgi içeren 4 özellik\n",
    "                           n_redundant=0,  # fazlalık bilgi yok\n",
    "                           weights=[0.9, 0.1],  # sınıf dağılımı: %90 - %10\n",
    "                           random_state=42)  # tekrar üretilebilirlik için sabit tohum\n",
    "\n",
    "# Veriyi eğitim ve test olarak ayıralım (%70 eğitim, %30 test)\n",
    "X_train, X_test, y_train, y_test = train_test_split(X, y,\n",
    "                                                    test_size=0.3,\n",
    "                                                    random_state=42)\n"
   ]
  },
  {
   "cell_type": "code",
   "execution_count": 2,
   "id": "6520cb7d",
   "metadata": {},
   "outputs": [
    {
     "name": "stdout",
     "output_type": "stream",
     "text": [
      "Accuracy: 0.9178\n",
      "Matthews Correlation Coefficient (MCC): 0.4735\n"
     ]
    },
    {
     "data": {
      "image/png": "[encoded data removed]",
      "text/plain": [
       "<Figure size 640x480 with 2 Axes>"
      ]
     },
     "metadata": {},
     "output_type": "display_data"
    }
   ],
   "source": [
    "# Lojistik regresyon modelini oluşturalım\n",
    "clf = LogisticRegression(max_iter=1000)  # maksimum iterasyon sayısını artırdık\n",
    "clf.fit(X_train, y_train)  # modeli eğit\n",
    "\n",
    "# Test verisi üzerinde tahmin yapalım\n",
    "y_pred = clf.predict(X_test)\n",
    "\n",
    "# MCC ve Accuracy değerlerini hesaplayalım\n",
    "mcc = matthews_corrcoef(y_test, y_pred)  # MCC metriği\n",
    "acc = accuracy_score(y_test, y_pred)  # klasik doğruluk metriği\n",
    "\n",
    "# Sonuçları yazdıralım\n",
    "print(f\"Accuracy: {acc:.4f}\")\n",
    "print(f\"Matthews Correlation Coefficient (MCC): {mcc:.4f}\")\n",
    "\n",
    "# Konfüzyon matrisini hesaplayalım ve çizdirelim\n",
    "cm = confusion_matrix(y_test, y_pred)  # TP, TN, FP, FN bilgileri içerir\n",
    "disp = ConfusionMatrixDisplay(confusion_matrix=cm)\n",
    "disp.plot()\n",
    "plt.title(\"Confusion Matrix\")\n",
    "plt.show()\n",
    "\n",
    "# --- Açıklama ---\n",
    "# Accuracy çoğunluk sınıfı doğru tahmin ettiği için yüksek olabilir.\n",
    "# MCC, dengesizlikten etkilenmez ve tüm hata türlerini hesaba katar.\n"
   ]
  },
  {
   "cell_type": "markdown",
   "id": "e1c05078",
   "metadata": {},
   "source": [
    "## 📌 MCC Sonuçlarının Yorumlanması\n",
    "\n",
    "✅ Accuracy yüksek görünüyor (%91.78) çünkü model büyük çoğunluğu oluşturan negatif (0) sınıfı çok doğru tahmin etmiş.\n",
    "\n",
    "❌ Ancak pozitif sınıfta (1):\n",
    "\n",
    "49 örnekten sadece 12’si doğru, 37’si yanlış tahmin edilmiş.\n",
    "\n",
    "🟡 MCC (0.47) orta seviyede çünkü:\n",
    "\n",
    "MCC hem True Negative (401) hem de False Negative (37) ve True Positive (12) değerlerini birlikte değerlendiriyor.\n",
    "\n",
    "Azınlık sınıfa dair yüksek hata MCC’yi aşağı çekiyor.\n",
    "\n",
    "\n",
    "📌 Sonuç:\n",
    "Bu model çoğunluk sınıfı çok iyi tahmin ediyor ama azınlık sınıfta ciddi başarısızlık gösteriyor.\n",
    "MCC bu yüzden accuracy’ye kıyasla çok daha düşük.\n",
    "Bu, dengesiz veri setlerinde MCC’nin önemini çok iyi gösteren bir örnektir.\n",
    "\n",
    "---\n",
    "\n",
    "## ✅ Özet\n",
    "\n",
    "- MCC, klasik Accuracy'den daha adil bir ölçüdür.\n",
    "- Sağlık, dolandırıcılık tespiti gibi kritik uygulamalarda tercih edilir.\n",
    "- Hem pozitif hem negatif sınıfı dengeli değerlendirir.\n",
    "\n",
    "---\n",
    "\n",
    "\n",
    "Bu notebook [MIT Lisansı](https://opensource.org/licenses/MIT) ile lisanslanmıştır.\n",
    "\n",
    "---\n",
    "\n",
    "_Notebook son güncelleme tarihi: 2025-07-15 18:14_ ✨\n"
   ]
  }
 ],
 "metadata": {
  "kernelspec": {
   "display_name": "Python 3",
   "language": "python",
   "name": "python3"
  },
  "language_info": {
   "codemirror_mode": {
    "name": "ipython",
    "version": 3
   },
   "file_extension": ".py",
   "mimetype": "text/x-python",
   "name": "python",
   "nbconvert_exporter": "python",
   "pygments_lexer": "ipython3",
   "version": "3.12.6"
  }
 },
 "nbformat": 4,
 "nbformat_minor": 5
}
